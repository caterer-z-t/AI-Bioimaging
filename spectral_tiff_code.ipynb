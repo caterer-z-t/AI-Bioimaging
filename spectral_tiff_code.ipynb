{
 "cells": [
  {
   "cell_type": "code",
   "execution_count": 2,
   "id": "048a71a5",
   "metadata": {},
   "outputs": [],
   "source": [
    "import tifffile as tiff\n",
    "import pandas as pd\n",
    "import numpy as np\n",
    "import matplotlib.pyplot as plt"
   ]
  },
  {
   "cell_type": "code",
   "execution_count": 12,
   "id": "222cfc82",
   "metadata": {},
   "outputs": [
    {
     "name": "stdout",
     "output_type": "stream",
     "text": [
      "The mask shape is:  (1800, 1500, 3)\n"
     ]
    }
   ],
   "source": [
    "#import the mask and transpose it\n",
    "mask = tiff.imread('classificationROItif.tif')\n",
    "mask = np.transpose(mask)\n",
    "print(\"The mask shape is: \", mask.shape)"
   ]
  },
  {
   "cell_type": "code",
   "execution_count": 10,
   "id": "435c6ee1",
   "metadata": {},
   "outputs": [
    {
     "name": "stdout",
     "output_type": "stream",
     "text": [
      "The image shape is:  (1800, 1500, 767)\n"
     ]
    }
   ],
   "source": [
    "#import the image and transpose it\n",
    "image = tiff.imread('Mosaic_raw1.tif')\n",
    "image = np.transpose(image)\n",
    "print(\"The image shape is: \", image.shape)"
   ]
  },
  {
   "cell_type": "code",
   "execution_count": 14,
   "id": "619c7fc2",
   "metadata": {},
   "outputs": [],
   "source": [
    "#Take the unique values from the mask and have an array that is only the 3 RGB values\n",
    "arr_mask_rgb = np.unique(mask.reshape(-1, mask.shape[2]), axis=0)\n",
    "\n",
    "#Create an array that contains all zeroes that will act as the mask\n",
    "arr_mask_copy = np.zeros((1800, 1500), dtype=int)\n",
    "\n",
    "#Loop through and when match the imported mask RGB values with the array mask RGB values and change them to 1 or 2\n",
    "for i in range(0, mask.shape[0]):\n",
    "    for j in range (0, mask.shape[1]):\n",
    "        if (np.array_equal(mask[i][j], arr_mask_rgb[1])):\n",
    "            arr_mask_copy[i][j] = 1\n",
    "        if (np.array_equal(mask[i][j], arr_mask_rgb[2])):\n",
    "            arr_mask_copy[i][j] = 2\n",
    "\n",
    "\n",
    "df_mask = pd.DataFrame(arr_mask_copy)\n",
    "mask_csv = df_mask.to_csv('mask.csv')"
   ]
  },
  {
   "cell_type": "code",
   "execution_count": null,
   "id": "1cebfbc7",
   "metadata": {},
   "outputs": [],
   "source": [
    "#Create an empty dataframe\n",
    "df_pixel = pd.DataFrame()\n",
    "\n",
    "blue_arr = []\n",
    "green_arr = []\n",
    "\n",
    "#Loop through each band and find when the arr_mask_copy is equal to 1 or 2 and append to the corresponding array.\n",
    "#This then stacks those two arrays and adds them to the dataframe as a single column\n",
    "for i in range(0, image.shape[2]):\n",
    "    blue_arr = []\n",
    "    green_arr = []\n",
    "    for j in range (0, image.shape[0]):\n",
    "        for k in range(0, image.shape[1]):\n",
    "            if(arr_mask_copy[j][k] == 1):\n",
    "                blue_arr = np.append(blue_arr, image[j][k][i])\n",
    "            if(arr_mask_copy[j][k] == 2):\n",
    "                green_arr = np.append(green_arr, image[j][k][i])\n",
    "    \n",
    "    blue_green = np.hstack((blue_arr, green_arr))\n",
    "    df_pixel[i] = blue_green.tolist()\n",
    "\n",
    "display(df_pixel)\n",
    "image_csv = df_pixel.to_csv('image_raw.csv')"
   ]
  },
  {
   "cell_type": "code",
   "execution_count": null,
   "id": "5dfdf581",
   "metadata": {},
   "outputs": [],
   "source": []
  }
 ],
 "metadata": {
  "kernelspec": {
   "display_name": "Python 3",
   "language": "python",
   "name": "python3"
  },
  "language_info": {
   "codemirror_mode": {
    "name": "ipython",
    "version": 3
   },
   "file_extension": ".py",
   "mimetype": "text/x-python",
   "name": "python",
   "nbconvert_exporter": "python",
   "pygments_lexer": "ipython3",
   "version": "3.8.5"
  }
 },
 "nbformat": 4,
 "nbformat_minor": 5
}
