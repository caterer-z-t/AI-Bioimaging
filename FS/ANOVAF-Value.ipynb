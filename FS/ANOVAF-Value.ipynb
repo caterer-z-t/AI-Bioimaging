{
 "cells": [
  {
   "cell_type": "code",
   "execution_count": 1,
   "metadata": {
    "colab": {
     "base_uri": "https://localhost:8080/"
    },
    "id": "94nrF2QANCLK",
    "outputId": "3913e887-6cc3-41eb-a506-7f01708679de"
   },
   "outputs": [],
   "source": [
    "# Imports\n",
    "from sklearn.feature_selection import SelectKBest, f_classif\n",
    "\n",
    "import numpy as np\n",
    "import pandas as pd\n",
    "\n",
    "import csv"
   ]
  },
  {
   "cell_type": "code",
   "execution_count": 2,
   "metadata": {
    "id": "XC06dCWUNEnV"
   },
   "outputs": [],
   "source": [
    "# Filepath\n",
    "dataFolder = 'Data/'\n",
    "dataFile = dataFolder + 'bandsOnTopWithClassification.csv'\n",
    "\n",
    "# Load the dataset\n",
    "df = pd.read_csv(dataFile)\n",
    "indColumn = df.iloc[:,0:767] #independent columns\n",
    "targetColumn = df.iloc[:,-1] #target column"
   ]
  },
  {
   "cell_type": "code",
   "execution_count": 17,
   "metadata": {
    "id": "E4UpejBOazAi"
   },
   "outputs": [],
   "source": [
    "#Fit the model\n",
    "for i in range(1):\n",
    "    RFE_model = SelectKBest(f_classif, k=4)\n",
    "    RFE_model.fit(indColumn, targetColumn)\n",
    "    \n",
    "    RFE_scores = -np.log10(RFE_model.pvalues_)\n",
    "    RFE_scores /= RFE_scores.max()\n",
    "    RFE_sort_index = np.argsort(RFE_scores)\n",
    "    \n",
    "    saveOutput = 'FVALOutput_' + str(i) + '.csv'\n",
    "    \n",
    "    with open(saveOutput, 'w') as csvfile:  \n",
    "        # creating a csv writer object  \n",
    "        csvwriter = csv.writer(csvfile)  \n",
    "          \n",
    "        # writing the fields  \n",
    "        csvwriter.writerow(model.scores_)\n",
    "          \n",
    "        # writing the data rows  \n",
    "        # csvwriter.writerows(indColumn)"
   ]
  },
  {
   "cell_type": "code",
   "execution_count": 18,
   "metadata": {},
   "outputs": [
    {
     "name": "stdout",
     "output_type": "stream",
     "text": [
      "[592 645 593 220 539 596  14 591 597 594   1 519 505 595 518 644 538 590\n",
      " 598 506 646 599  40 537 589 643  17 600 529 540  16 588 517 601  19 647\n",
      " 530  15 642 587 504 531   2 528 602  39 516 648 560 520  18 561 559 564\n",
      " 565 541 563 536 554 557 532 558 562 566 641 603 586 649 553 515 604 556\n",
      " 535 567 527 513 507 514 555 650 534  20 533 584 605 542 583  12  11 568\n",
      " 585 512 651 552 582 221 219   0 640 606  21 569  47  48 652 543 581 570\n",
      " 511  13  10 580  41 503 544 571 607 579 526 508 653 545 510 639 551 572\n",
      "   8 578 546 550 654   7 574 573 548 577 547 509 575 576 379 377 380   6\n",
      " 549 608 655  46 378 638   9 521 656 373  49 372 371 637 222 657  22 658\n",
      " 502 609  38 375 374 376   4 659   3 660  42 381 525 370 661 636 382 368\n",
      " 369 610   5  45 501 218 662 663 223 664 665 635  50 500 367 611 497 258\n",
      " 259 499 260  44 666 496 248 498 257 383 667  43 522 634 668 495  23 249\n",
      " 612  51 670 256 524 669 224 255 250 494 254 366 247 671 253 263 674 523\n",
      " 265 264 633 672 252 675 673 251 217 613 632  37 243 493 246 261 676 492\n",
      " 677 244 678  53  52 262 679 631 365 245 225 491 384 490 681  54 680 614\n",
      " 444 443 489 267 238 266 237  56 682 488  55  57 487 236 235 268 436 441\n",
      " 437 364 445 239 486 449 435 442 630 421 420 485 434 446 424 483 428 422\n",
      " 448 447 419 423 229 385 484 683 482 684 242 269 615 481 418 685 450 240\n",
      " 273 228 479 270 475 413 412 451 480 395  58 686 386 474 478 429 272 241\n",
      " 452 363 476 396 415 414 389 457 411 453 234 388 427  65 454 477 410 687\n",
      " 430 438 458 397 401 226 456 426 473 440 417 425 433 432 431 416 390 387\n",
      " 399 271 439 394 455 230 227 400 688 459 391 472 629 409 398 461 393 460\n",
      " 471 392 362 470 405 353 408 616 233 466 468 406 689 352 469 404 465 354\n",
      " 407 467 462 628 274 464 403 351 360 356 357 358 350 463 359 402 355 361\n",
      " 275 216 690 617 627 333 349 332  36 231 691 345 232 279 348 342 344 347\n",
      " 692 278 341  64 346 693 694 626 343  59 276 618 334 625  66 695 280 698\n",
      " 277 619  24 696 281 699 624 282 620  63 697 339 700 331 283 340 330 621\n",
      " 701 336 338 326 284 327 329 623 337 622  60 328 285 702  62 325 286 322\n",
      " 316 319 321 320 323 317 318 705 324  61 315 703 304 287 335 704 288 314\n",
      " 706 289 308 299 298 307 306 215 309 290 291 292 303 305 313 310 301 302\n",
      "  67 300  35 297 293 311 312 296 294 711 295  25 707 709 708 710 713 712\n",
      " 717  26 715 716 714 725 214  27 213 722 732 729 726 728 723 718 719  28\n",
      " 721 731 727 724 730 733 720 746 745 734 747 748  34 744 743 742 736 735\n",
      " 749  68 212 741 120 119 750 740 737 118  29 754 121 752 758 739 755 115\n",
      " 751 759 738 757 114 753 760 756 761 122 117 762 763 113 116 764 135 765\n",
      " 136  30 112 137 766  33 123 211 133 111 138 132 110 134  69 149 109 150\n",
      " 124 148 177 108 178  32 131 130  31 129 139 107 176 125 179 151 180 128\n",
      " 126 106 147 210 105 127  70 146 140 152 104 145 175 103 101 100 102 153\n",
      " 181  99  98  74 144  75  97  71 141  73 209  76  72  96  77 174 142 143\n",
      " 182  78  95 154 173  94 183  79  80  93 208 155  81  92 185  91 184  82\n",
      "  90  83 186 172  89  84  88  85  86  87 156 187 207 157 171 188 158 170\n",
      " 206 189 160 161 169 159 205 162 168 163 204 167 190 166 165 164 203 191\n",
      " 192 202 201 193 200 194 195 199 196 198 197]\n"
     ]
    }
   ],
   "source": [
    "print(RFE_sort_index)"
   ]
  },
  {
   "cell_type": "code",
   "execution_count": null,
   "metadata": {},
   "outputs": [],
   "source": []
  }
 ],
 "metadata": {
  "colab": {
   "provenance": []
  },
  "kernelspec": {
   "display_name": "Python 3",
   "language": "python",
   "name": "python3"
  },
  "language_info": {
   "codemirror_mode": {
    "name": "ipython",
    "version": 3
   },
   "file_extension": ".py",
   "mimetype": "text/x-python",
   "name": "python",
   "nbconvert_exporter": "python",
   "pygments_lexer": "ipython3",
   "version": "3.8.5"
  }
 },
 "nbformat": 4,
 "nbformat_minor": 1
}
