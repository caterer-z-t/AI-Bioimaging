{
 "cells": [
  {
   "cell_type": "code",
   "execution_count": 109,
   "id": "49e05890",
   "metadata": {},
   "outputs": [],
   "source": [
    "#Multi Layer Perceptron for Binary Classification\n",
    "import tensorflow as tf\n",
    "from matplotlib import pyplot\n",
    "import numpy as np\n",
    "import pandas as pd\n",
    "from pandas import read_csv\n",
    "from sklearn.model_selection import train_test_split\n",
    "from sklearn.preprocessing import LabelEncoder\n",
    "from tensorflow.keras import Sequential\n",
    "from tensorflow.keras.layers import Dense\n",
    "from tensorflow.keras.layers import InputLayer\n",
    "from tensorflow.keras.callbacks import EarlyStopping\n",
    "from sklearn.metrics import confusion_matrix\n",
    "import time\n",
    "import os\n",
    "import tempfile"
   ]
  },
  {
   "cell_type": "code",
   "execution_count": 110,
   "id": "e7b15d1b",
   "metadata": {},
   "outputs": [
    {
     "name": "stdout",
     "output_type": "stream",
     "text": [
      "            0         1         2         3         4         5         6    \\\n",
      "0      0.015129  0.017095  0.019158  0.020151  0.020051  0.020037  0.020417   \n",
      "1      0.021492  0.021839  0.022099  0.021414  0.019458  0.017557  0.017055   \n",
      "2      0.018931  0.018543  0.018299  0.017018  0.014979  0.014023  0.015348   \n",
      "3      0.017672  0.017455  0.017240  0.016048  0.014647  0.014277  0.015218   \n",
      "4      0.019671  0.020411  0.020497  0.020230  0.021146  0.022208  0.022273   \n",
      "...         ...       ...       ...       ...       ...       ...       ...   \n",
      "36063  0.020789  0.019660  0.020122  0.021130  0.020752  0.018410  0.015181   \n",
      "36064  0.036120  0.034278  0.034476  0.035099  0.034775  0.034062  0.033057   \n",
      "36065  0.040596  0.039176  0.036893  0.034860  0.033695  0.032679  0.031467   \n",
      "36066  0.037533  0.036553  0.034959  0.032973  0.031371  0.030838  0.031487   \n",
      "36067  0.045737  0.040986  0.035687  0.031960  0.030897  0.031809  0.033327   \n",
      "\n",
      "            7         8         9    ...       758       759       760  \\\n",
      "0      0.020236  0.019285  0.019283  ...  0.078165  0.078354  0.077351   \n",
      "1      0.017680  0.018107  0.018178  ...  0.051071  0.050754  0.048954   \n",
      "2      0.017675  0.018316  0.017113  ...  0.052510  0.051125  0.048097   \n",
      "3      0.016833  0.017571  0.016633  ...  0.045658  0.045600  0.043644   \n",
      "4      0.022124  0.021620  0.020586  ...  0.078706  0.079116  0.077751   \n",
      "...         ...       ...       ...  ...       ...       ...       ...   \n",
      "36063  0.012750  0.011588  0.011209  ...  0.096125  0.095269  0.093967   \n",
      "36064  0.030733  0.027268  0.024553  ...  0.037528  0.035985  0.033007   \n",
      "36065  0.030749  0.030765  0.031037  ... -0.005400 -0.005461 -0.008676   \n",
      "36066  0.032359  0.032052  0.030841  ...  0.048525  0.049945  0.049343   \n",
      "36067  0.034795  0.035317  0.034278  ...  0.072871  0.074545  0.072927   \n",
      "\n",
      "            761       762       763       764       765       766    767  \n",
      "0      0.076690  0.076841  0.077390  0.077018  0.074912  0.072640  green  \n",
      "1      0.047939  0.048586  0.049631  0.049231  0.047248  0.045890  green  \n",
      "2      0.046582  0.047490  0.049107  0.050232  0.051438  0.052656  green  \n",
      "3      0.041945  0.042418  0.044028  0.044291  0.043059  0.042303  green  \n",
      "4      0.076913  0.077551  0.078280  0.077802  0.076743  0.076713  green  \n",
      "...         ...       ...       ...       ...       ...       ...    ...  \n",
      "36063  0.093113  0.091511  0.088434  0.084357  0.080712  0.078677   blue  \n",
      "36064  0.030636  0.029599  0.028240  0.025281  0.022543  0.022018   blue  \n",
      "36065 -0.012757 -0.015857 -0.018321 -0.021210 -0.023647 -0.024409   blue  \n",
      "36066  0.047777  0.045163  0.040676  0.035097  0.031022  0.030245   blue  \n",
      "36067  0.069524  0.066979  0.065215  0.062595  0.059393  0.056634   blue  \n",
      "\n",
      "[36068 rows x 768 columns]\n"
     ]
    }
   ],
   "source": [
    "#Load the Dataset\n",
    "path = 'raw_mosaic_pixeldata_NN.csv'\n",
    "df = read_csv(path, header=None)\n",
    "print(df)"
   ]
  },
  {
   "cell_type": "code",
   "execution_count": 111,
   "id": "3cd2075b",
   "metadata": {},
   "outputs": [
    {
     "name": "stdout",
     "output_type": "stream",
     "text": [
      "[[ 24  25  26  27  28  29  30  31  32  33  34  35  78  79  81  82  84  86\n",
      "   87  88  89  91  92  93 155 156 157 158 159 160 161 162 163 164 165 166\n",
      "  167 168 169 170 171 172 173 186 187 188 189 191 192 193 194 196 197 198\n",
      "  199 200 201 203 204 205 206 207 208 210 281 283 284 290 292 293 306 309\n",
      "  313 319 321 327 330 331 336 337 338 619 620 621 622 623 624 710 714 718\n",
      "  719 721 727 732 735 738 743 744 747 749 751 758 759 766]]\n",
      "[[164 165 166 189 191 192 193 196 199 200 203 204]]\n",
      "[[ 79  82  87  88  89 167 168 169 170 171 196 197 620 622 624 727]]\n",
      "61\n"
     ]
    }
   ],
   "source": [
    "#Load the Feature Selected Bands\n",
    "\n",
    "feature_path = 'ETC_RFE_ANOVA.csv'\n",
    "feature_df = read_csv(feature_path, header=None)\n",
    "feature_array_triple = feature_df.to_numpy()\n",
    "print(feature_array_triple)\n",
    "\n",
    "feature_path = '12_features.csv'\n",
    "feature_df = read_csv(feature_path, header=None)\n",
    "feature_array_twelve = feature_df.to_numpy()\n",
    "print(feature_array_twelve)\n",
    "\n",
    "feature_path = 'LIT_Bands_Intersection_Feature_Selection.csv'\n",
    "feature_df = read_csv(feature_path, header=None)\n",
    "feature_array_LIT_intersect = feature_df.to_numpy()\n",
    "print(feature_array_LIT_intersect)\n",
    "\n",
    "feature_path = 'Literature_Bands_61.csv'\n",
    "feature_df = read_csv(feature_path, header=None)\n",
    "feature_array_LIT_61 = feature_df.to_numpy()\n",
    "print(feature_array_LIT_61.size)\n",
    "\n",
    "#Function used to return just the values in the list, can be used for 104 and 12 feature lists\n",
    "def array_values(list):\n",
    "    for i in list:\n",
    "        return i"
   ]
  },
  {
   "cell_type": "code",
   "execution_count": 112,
   "id": "d64a1754",
   "metadata": {
    "scrolled": true
   },
   "outputs": [
    {
     "name": "stdout",
     "output_type": "stream",
     "text": [
      "[[0.024323406 0.024786333 0.025557835 ... 0.07704927 0.078165427\n",
      "  0.074911892]\n",
      " [0.017354405 0.017653821 0.018485628 ... 0.050072946 0.051070999\n",
      "  0.047248427]\n",
      " [0.014408262 0.014687239 0.015662696 ... 0.051737711 0.052510031\n",
      "  0.051437993]\n",
      " ...\n",
      " [0.032839824 0.035231948 0.037352055 ... -0.006028205 -0.005399798\n",
      "  -0.023646984]\n",
      " [0.034997389 0.037384901 0.040153164 ... 0.047700714 0.048524681\n",
      "  0.031022113]\n",
      " [0.041136507 0.043989088 0.046262812 ... 0.071768932 0.072871484\n",
      "  0.059392739]]\n",
      "['green' 'green' 'green' ... 'blue' 'blue' 'blue']\n"
     ]
    }
   ],
   "source": [
    "#Split into input/output columns\n",
    "#:-1\n",
    "#array_values(list)-1\n",
    "\n",
    "X, y = df.values[:, array_values(feature_array_triple)-1], df.values[:, -1]\n",
    "print(X)\n",
    "print(y)"
   ]
  },
  {
   "cell_type": "code",
   "execution_count": 113,
   "id": "c1b0a9b0",
   "metadata": {},
   "outputs": [],
   "source": [
    "#Ensure Data are Floats\n",
    "X = X.astype('float32')"
   ]
  },
  {
   "cell_type": "code",
   "execution_count": 114,
   "id": "675bc748",
   "metadata": {},
   "outputs": [
    {
     "name": "stdout",
     "output_type": "stream",
     "text": [
      "[1 1 1 ... 0 0 0]\n"
     ]
    }
   ],
   "source": [
    "#Encode Strings to integers\n",
    "y = LabelEncoder().fit_transform(y)\n",
    "print(y)"
   ]
  },
  {
   "cell_type": "code",
   "execution_count": 115,
   "id": "210181c8",
   "metadata": {},
   "outputs": [
    {
     "name": "stdout",
     "output_type": "stream",
     "text": [
      "(25247, 104) (10821, 104) (25247,) (10821,)\n"
     ]
    }
   ],
   "source": [
    "#Split into Training and Test Datasets\n",
    "X_train, X_test, y_train, y_test = train_test_split(X, y, test_size=0.30, random_state=17)\n",
    "print(X_train.shape, X_test.shape, y_train.shape, y_test.shape)\n",
    "\n",
    "#use same randomState"
   ]
  },
  {
   "cell_type": "code",
   "execution_count": 116,
   "id": "bca73ffe",
   "metadata": {},
   "outputs": [
    {
     "name": "stdout",
     "output_type": "stream",
     "text": [
      "104\n"
     ]
    }
   ],
   "source": [
    "#Determine number of input features\n",
    "n_features = X_train.shape[1]\n",
    "print(n_features)"
   ]
  },
  {
   "cell_type": "code",
   "execution_count": 118,
   "id": "5b3c83f8",
   "metadata": {},
   "outputs": [
    {
     "name": "stdout",
     "output_type": "stream",
     "text": [
      "/tmp/tmpphlw28ga/initial_weights\n"
     ]
    }
   ],
   "source": [
    "print(initial_weights)"
   ]
  },
  {
   "cell_type": "code",
   "execution_count": 117,
   "id": "62126850",
   "metadata": {},
   "outputs": [
    {
     "ename": "ValueError",
     "evalue": "Shapes (104, 100) and (767, 100) are incompatible",
     "output_type": "error",
     "traceback": [
      "\u001b[0;31m---------------------------------------------------------------------------\u001b[0m",
      "\u001b[0;31mValueError\u001b[0m                                Traceback (most recent call last)",
      "\u001b[0;32m<ipython-input-117-53eee9116972>\u001b[0m in \u001b[0;36m<module>\u001b[0;34m\u001b[0m\n\u001b[1;32m      9\u001b[0m \u001b[0mmodel\u001b[0m\u001b[0;34m.\u001b[0m\u001b[0madd\u001b[0m\u001b[0;34m(\u001b[0m\u001b[0mDense\u001b[0m\u001b[0;34m(\u001b[0m\u001b[0;36m1\u001b[0m\u001b[0;34m,\u001b[0m \u001b[0mactivation\u001b[0m\u001b[0;34m=\u001b[0m\u001b[0;34m'sigmoid'\u001b[0m\u001b[0;34m)\u001b[0m\u001b[0;34m)\u001b[0m\u001b[0;34m\u001b[0m\u001b[0;34m\u001b[0m\u001b[0m\n\u001b[1;32m     10\u001b[0m \u001b[0;34m\u001b[0m\u001b[0m\n\u001b[0;32m---> 11\u001b[0;31m \u001b[0mmodel\u001b[0m\u001b[0;34m.\u001b[0m\u001b[0mload_weights\u001b[0m\u001b[0;34m(\u001b[0m\u001b[0minitial_weights\u001b[0m\u001b[0;34m)\u001b[0m\u001b[0;34m\u001b[0m\u001b[0;34m\u001b[0m\u001b[0m\n\u001b[0m\u001b[1;32m     12\u001b[0m \u001b[0;34m\u001b[0m\u001b[0m\n\u001b[1;32m     13\u001b[0m \u001b[0;31m#100, 200, 300, 200, 1\u001b[0m\u001b[0;34m\u001b[0m\u001b[0;34m\u001b[0m\u001b[0;34m\u001b[0m\u001b[0m\n",
      "\u001b[0;32m/data/software/python-libs/3.0.0/lib/python3.8/site-packages/tensorflow/python/keras/engine/training.py\u001b[0m in \u001b[0;36mload_weights\u001b[0;34m(self, filepath, by_name, skip_mismatch, options)\u001b[0m\n\u001b[1;32m   2203\u001b[0m         \u001b[0msave_format\u001b[0m \u001b[0;34m=\u001b[0m \u001b[0;34m'h5'\u001b[0m\u001b[0;34m\u001b[0m\u001b[0;34m\u001b[0m\u001b[0m\n\u001b[1;32m   2204\u001b[0m     \u001b[0;32mif\u001b[0m \u001b[0msave_format\u001b[0m \u001b[0;34m==\u001b[0m \u001b[0;34m'tf'\u001b[0m\u001b[0;34m:\u001b[0m\u001b[0;34m\u001b[0m\u001b[0;34m\u001b[0m\u001b[0m\n\u001b[0;32m-> 2205\u001b[0;31m       \u001b[0mstatus\u001b[0m \u001b[0;34m=\u001b[0m \u001b[0mself\u001b[0m\u001b[0;34m.\u001b[0m\u001b[0m_trackable_saver\u001b[0m\u001b[0;34m.\u001b[0m\u001b[0mrestore\u001b[0m\u001b[0;34m(\u001b[0m\u001b[0mfilepath\u001b[0m\u001b[0;34m,\u001b[0m \u001b[0moptions\u001b[0m\u001b[0;34m)\u001b[0m\u001b[0;34m\u001b[0m\u001b[0;34m\u001b[0m\u001b[0m\n\u001b[0m\u001b[1;32m   2206\u001b[0m       \u001b[0;32mif\u001b[0m \u001b[0mby_name\u001b[0m\u001b[0;34m:\u001b[0m\u001b[0;34m\u001b[0m\u001b[0;34m\u001b[0m\u001b[0m\n\u001b[1;32m   2207\u001b[0m         raise NotImplementedError(\n",
      "\u001b[0;32m/data/software/python-libs/3.0.0/lib/python3.8/site-packages/tensorflow/python/training/tracking/util.py\u001b[0m in \u001b[0;36mrestore\u001b[0;34m(self, save_path, options)\u001b[0m\n\u001b[1;32m   1334\u001b[0m         \u001b[0mgraph_view\u001b[0m\u001b[0;34m=\u001b[0m\u001b[0mself\u001b[0m\u001b[0;34m.\u001b[0m\u001b[0m_graph_view\u001b[0m\u001b[0;34m,\u001b[0m\u001b[0;34m\u001b[0m\u001b[0;34m\u001b[0m\u001b[0m\n\u001b[1;32m   1335\u001b[0m         options=options)\n\u001b[0;32m-> 1336\u001b[0;31m     base.CheckpointPosition(\n\u001b[0m\u001b[1;32m   1337\u001b[0m         checkpoint=checkpoint, proto_id=0).restore(self._graph_view.root)\n\u001b[1;32m   1338\u001b[0m \u001b[0;34m\u001b[0m\u001b[0m\n",
      "\u001b[0;32m/data/software/python-libs/3.0.0/lib/python3.8/site-packages/tensorflow/python/training/tracking/base.py\u001b[0m in \u001b[0;36mrestore\u001b[0;34m(self, trackable)\u001b[0m\n\u001b[1;32m    251\u001b[0m         \u001b[0;31m# This object's correspondence with a checkpointed object is new, so\u001b[0m\u001b[0;34m\u001b[0m\u001b[0;34m\u001b[0m\u001b[0;34m\u001b[0m\u001b[0m\n\u001b[1;32m    252\u001b[0m         \u001b[0;31m# process deferred restorations for it and its dependencies.\u001b[0m\u001b[0;34m\u001b[0m\u001b[0;34m\u001b[0m\u001b[0;34m\u001b[0m\u001b[0m\n\u001b[0;32m--> 253\u001b[0;31m         \u001b[0mrestore_ops\u001b[0m \u001b[0;34m=\u001b[0m \u001b[0mtrackable\u001b[0m\u001b[0;34m.\u001b[0m\u001b[0m_restore_from_checkpoint_position\u001b[0m\u001b[0;34m(\u001b[0m\u001b[0mself\u001b[0m\u001b[0;34m)\u001b[0m  \u001b[0;31m# pylint: disable=protected-access\u001b[0m\u001b[0;34m\u001b[0m\u001b[0;34m\u001b[0m\u001b[0m\n\u001b[0m\u001b[1;32m    254\u001b[0m         \u001b[0;32mif\u001b[0m \u001b[0mrestore_ops\u001b[0m\u001b[0;34m:\u001b[0m\u001b[0;34m\u001b[0m\u001b[0;34m\u001b[0m\u001b[0m\n\u001b[1;32m    255\u001b[0m           \u001b[0mself\u001b[0m\u001b[0;34m.\u001b[0m\u001b[0m_checkpoint\u001b[0m\u001b[0;34m.\u001b[0m\u001b[0mnew_restore_ops\u001b[0m\u001b[0;34m(\u001b[0m\u001b[0mrestore_ops\u001b[0m\u001b[0;34m)\u001b[0m\u001b[0;34m\u001b[0m\u001b[0;34m\u001b[0m\u001b[0m\n",
      "\u001b[0;32m/data/software/python-libs/3.0.0/lib/python3.8/site-packages/tensorflow/python/training/tracking/base.py\u001b[0m in \u001b[0;36m_restore_from_checkpoint_position\u001b[0;34m(self, checkpoint_position)\u001b[0m\n\u001b[1;32m    970\u001b[0m       \u001b[0mpython_saveables\u001b[0m\u001b[0;34m.\u001b[0m\u001b[0mextend\u001b[0m\u001b[0;34m(\u001b[0m\u001b[0mnew_python_saveables\u001b[0m\u001b[0;34m)\u001b[0m\u001b[0;34m\u001b[0m\u001b[0;34m\u001b[0m\u001b[0m\n\u001b[1;32m    971\u001b[0m     restore_ops.extend(\n\u001b[0;32m--> 972\u001b[0;31m         current_position.checkpoint.restore_saveables(\n\u001b[0m\u001b[1;32m    973\u001b[0m             tensor_saveables, python_saveables))\n\u001b[1;32m    974\u001b[0m     \u001b[0;32mreturn\u001b[0m \u001b[0mrestore_ops\u001b[0m\u001b[0;34m\u001b[0m\u001b[0;34m\u001b[0m\u001b[0m\n",
      "\u001b[0;32m/data/software/python-libs/3.0.0/lib/python3.8/site-packages/tensorflow/python/training/tracking/util.py\u001b[0m in \u001b[0;36mrestore_saveables\u001b[0;34m(self, tensor_saveables, python_saveables)\u001b[0m\n\u001b[1;32m    305\u001b[0m             (\"Saveable keys changed when validating. Got back %s, was \"\n\u001b[1;32m    306\u001b[0m              \"expecting %s\") % (tensor_saveables.keys(), validated_names))\n\u001b[0;32m--> 307\u001b[0;31m       new_restore_ops = functional_saver.MultiDeviceSaver(\n\u001b[0m\u001b[1;32m    308\u001b[0m           validated_saveables).restore(self.save_path_tensor, self.options)\n\u001b[1;32m    309\u001b[0m       \u001b[0;32mif\u001b[0m \u001b[0;32mnot\u001b[0m \u001b[0mcontext\u001b[0m\u001b[0;34m.\u001b[0m\u001b[0mexecuting_eagerly\u001b[0m\u001b[0;34m(\u001b[0m\u001b[0;34m)\u001b[0m\u001b[0;34m:\u001b[0m\u001b[0;34m\u001b[0m\u001b[0;34m\u001b[0m\u001b[0m\n",
      "\u001b[0;32m/data/software/python-libs/3.0.0/lib/python3.8/site-packages/tensorflow/python/training/saving/functional_saver.py\u001b[0m in \u001b[0;36mrestore\u001b[0;34m(self, file_prefix, options)\u001b[0m\n\u001b[1;32m    343\u001b[0m       \u001b[0mrestore_ops\u001b[0m \u001b[0;34m=\u001b[0m \u001b[0mtf_function_restore\u001b[0m\u001b[0;34m(\u001b[0m\u001b[0;34m)\u001b[0m\u001b[0;34m\u001b[0m\u001b[0;34m\u001b[0m\u001b[0m\n\u001b[1;32m    344\u001b[0m     \u001b[0;32melse\u001b[0m\u001b[0;34m:\u001b[0m\u001b[0;34m\u001b[0m\u001b[0;34m\u001b[0m\u001b[0m\n\u001b[0;32m--> 345\u001b[0;31m       \u001b[0mrestore_ops\u001b[0m \u001b[0;34m=\u001b[0m \u001b[0mrestore_fn\u001b[0m\u001b[0;34m(\u001b[0m\u001b[0;34m)\u001b[0m\u001b[0;34m\u001b[0m\u001b[0;34m\u001b[0m\u001b[0m\n\u001b[0m\u001b[1;32m    346\u001b[0m \u001b[0;34m\u001b[0m\u001b[0m\n\u001b[1;32m    347\u001b[0m     \u001b[0;32mfor\u001b[0m \u001b[0mcallback\u001b[0m \u001b[0;32min\u001b[0m \u001b[0mself\u001b[0m\u001b[0;34m.\u001b[0m\u001b[0m_after_restore_callbacks\u001b[0m\u001b[0;34m:\u001b[0m\u001b[0;34m\u001b[0m\u001b[0;34m\u001b[0m\u001b[0m\n",
      "\u001b[0;32m/data/software/python-libs/3.0.0/lib/python3.8/site-packages/tensorflow/python/training/saving/functional_saver.py\u001b[0m in \u001b[0;36mrestore_fn\u001b[0;34m()\u001b[0m\n\u001b[1;32m    319\u001b[0m       \u001b[0;32mfor\u001b[0m \u001b[0mdevice\u001b[0m\u001b[0;34m,\u001b[0m \u001b[0msaver\u001b[0m \u001b[0;32min\u001b[0m \u001b[0msorted\u001b[0m\u001b[0;34m(\u001b[0m\u001b[0mself\u001b[0m\u001b[0;34m.\u001b[0m\u001b[0m_single_device_savers\u001b[0m\u001b[0;34m.\u001b[0m\u001b[0mitems\u001b[0m\u001b[0;34m(\u001b[0m\u001b[0;34m)\u001b[0m\u001b[0;34m)\u001b[0m\u001b[0;34m:\u001b[0m\u001b[0;34m\u001b[0m\u001b[0;34m\u001b[0m\u001b[0m\n\u001b[1;32m    320\u001b[0m         \u001b[0;32mwith\u001b[0m \u001b[0mops\u001b[0m\u001b[0;34m.\u001b[0m\u001b[0mdevice\u001b[0m\u001b[0;34m(\u001b[0m\u001b[0mdevice\u001b[0m\u001b[0;34m)\u001b[0m\u001b[0;34m:\u001b[0m\u001b[0;34m\u001b[0m\u001b[0;34m\u001b[0m\u001b[0m\n\u001b[0;32m--> 321\u001b[0;31m           \u001b[0mrestore_ops\u001b[0m\u001b[0;34m.\u001b[0m\u001b[0mupdate\u001b[0m\u001b[0;34m(\u001b[0m\u001b[0msaver\u001b[0m\u001b[0;34m.\u001b[0m\u001b[0mrestore\u001b[0m\u001b[0;34m(\u001b[0m\u001b[0mfile_prefix\u001b[0m\u001b[0;34m,\u001b[0m \u001b[0moptions\u001b[0m\u001b[0;34m)\u001b[0m\u001b[0;34m)\u001b[0m\u001b[0;34m\u001b[0m\u001b[0;34m\u001b[0m\u001b[0m\n\u001b[0m\u001b[1;32m    322\u001b[0m \u001b[0;34m\u001b[0m\u001b[0m\n\u001b[1;32m    323\u001b[0m       \u001b[0;32mreturn\u001b[0m \u001b[0mrestore_ops\u001b[0m\u001b[0;34m\u001b[0m\u001b[0;34m\u001b[0m\u001b[0m\n",
      "\u001b[0;32m/data/software/python-libs/3.0.0/lib/python3.8/site-packages/tensorflow/python/training/saving/functional_saver.py\u001b[0m in \u001b[0;36mrestore\u001b[0;34m(self, file_prefix, options)\u001b[0m\n\u001b[1;32m    113\u001b[0m     for saveable, restored_tensors in zip(self._saveable_objects,\n\u001b[1;32m    114\u001b[0m                                           structured_restored_tensors):\n\u001b[0;32m--> 115\u001b[0;31m       restore_ops[saveable.name] = saveable.restore(\n\u001b[0m\u001b[1;32m    116\u001b[0m           restored_tensors, restored_shapes=None)\n\u001b[1;32m    117\u001b[0m     \u001b[0;32mreturn\u001b[0m \u001b[0mrestore_ops\u001b[0m\u001b[0;34m\u001b[0m\u001b[0;34m\u001b[0m\u001b[0m\n",
      "\u001b[0;32m/data/software/python-libs/3.0.0/lib/python3.8/site-packages/tensorflow/python/training/saving/saveable_object_util.py\u001b[0m in \u001b[0;36mrestore\u001b[0;34m(self, restored_tensors, restored_shapes)\u001b[0m\n\u001b[1;32m    129\u001b[0m     \u001b[0;32mwith\u001b[0m \u001b[0mops\u001b[0m\u001b[0;34m.\u001b[0m\u001b[0mdevice\u001b[0m\u001b[0;34m(\u001b[0m\u001b[0mself\u001b[0m\u001b[0;34m.\u001b[0m\u001b[0m_var_device\u001b[0m\u001b[0;34m)\u001b[0m\u001b[0;34m:\u001b[0m\u001b[0;34m\u001b[0m\u001b[0;34m\u001b[0m\u001b[0m\n\u001b[1;32m    130\u001b[0m       \u001b[0mrestored_tensor\u001b[0m \u001b[0;34m=\u001b[0m \u001b[0marray_ops\u001b[0m\u001b[0;34m.\u001b[0m\u001b[0midentity\u001b[0m\u001b[0;34m(\u001b[0m\u001b[0mrestored_tensor\u001b[0m\u001b[0;34m)\u001b[0m\u001b[0;34m\u001b[0m\u001b[0;34m\u001b[0m\u001b[0m\n\u001b[0;32m--> 131\u001b[0;31m       return resource_variable_ops.shape_safe_assign_variable_handle(\n\u001b[0m\u001b[1;32m    132\u001b[0m           self.handle_op, self._var_shape, restored_tensor)\n\u001b[1;32m    133\u001b[0m \u001b[0;34m\u001b[0m\u001b[0m\n",
      "\u001b[0;32m/data/software/python-libs/3.0.0/lib/python3.8/site-packages/tensorflow/python/ops/resource_variable_ops.py\u001b[0m in \u001b[0;36mshape_safe_assign_variable_handle\u001b[0;34m(handle, shape, value, name)\u001b[0m\n\u001b[1;32m    305\u001b[0m   \u001b[0;32mwith\u001b[0m \u001b[0m_handle_graph\u001b[0m\u001b[0;34m(\u001b[0m\u001b[0mhandle\u001b[0m\u001b[0;34m)\u001b[0m\u001b[0;34m:\u001b[0m\u001b[0;34m\u001b[0m\u001b[0;34m\u001b[0m\u001b[0m\n\u001b[1;32m    306\u001b[0m     \u001b[0mvalue_tensor\u001b[0m \u001b[0;34m=\u001b[0m \u001b[0mops\u001b[0m\u001b[0;34m.\u001b[0m\u001b[0mconvert_to_tensor\u001b[0m\u001b[0;34m(\u001b[0m\u001b[0mvalue\u001b[0m\u001b[0;34m)\u001b[0m\u001b[0;34m\u001b[0m\u001b[0;34m\u001b[0m\u001b[0m\n\u001b[0;32m--> 307\u001b[0;31m   \u001b[0mshape\u001b[0m\u001b[0;34m.\u001b[0m\u001b[0massert_is_compatible_with\u001b[0m\u001b[0;34m(\u001b[0m\u001b[0mvalue_tensor\u001b[0m\u001b[0;34m.\u001b[0m\u001b[0mshape\u001b[0m\u001b[0;34m)\u001b[0m\u001b[0;34m\u001b[0m\u001b[0;34m\u001b[0m\u001b[0m\n\u001b[0m\u001b[1;32m    308\u001b[0m   return gen_resource_variable_ops.assign_variable_op(\n\u001b[1;32m    309\u001b[0m       handle, value_tensor, name=name)\n",
      "\u001b[0;32m/data/software/python-libs/3.0.0/lib/python3.8/site-packages/tensorflow/python/framework/tensor_shape.py\u001b[0m in \u001b[0;36massert_is_compatible_with\u001b[0;34m(self, other)\u001b[0m\n\u001b[1;32m   1132\u001b[0m     \"\"\"\n\u001b[1;32m   1133\u001b[0m     \u001b[0;32mif\u001b[0m \u001b[0;32mnot\u001b[0m \u001b[0mself\u001b[0m\u001b[0;34m.\u001b[0m\u001b[0mis_compatible_with\u001b[0m\u001b[0;34m(\u001b[0m\u001b[0mother\u001b[0m\u001b[0;34m)\u001b[0m\u001b[0;34m:\u001b[0m\u001b[0;34m\u001b[0m\u001b[0;34m\u001b[0m\u001b[0m\n\u001b[0;32m-> 1134\u001b[0;31m       \u001b[0;32mraise\u001b[0m \u001b[0mValueError\u001b[0m\u001b[0;34m(\u001b[0m\u001b[0;34m\"Shapes %s and %s are incompatible\"\u001b[0m \u001b[0;34m%\u001b[0m \u001b[0;34m(\u001b[0m\u001b[0mself\u001b[0m\u001b[0;34m,\u001b[0m \u001b[0mother\u001b[0m\u001b[0;34m)\u001b[0m\u001b[0;34m)\u001b[0m\u001b[0;34m\u001b[0m\u001b[0;34m\u001b[0m\u001b[0m\n\u001b[0m\u001b[1;32m   1135\u001b[0m \u001b[0;34m\u001b[0m\u001b[0m\n\u001b[1;32m   1136\u001b[0m   \u001b[0;32mdef\u001b[0m \u001b[0mmost_specific_compatible_shape\u001b[0m\u001b[0;34m(\u001b[0m\u001b[0mself\u001b[0m\u001b[0;34m,\u001b[0m \u001b[0mother\u001b[0m\u001b[0;34m)\u001b[0m\u001b[0;34m:\u001b[0m\u001b[0;34m\u001b[0m\u001b[0;34m\u001b[0m\u001b[0m\n",
      "\u001b[0;31mValueError\u001b[0m: Shapes (104, 100) and (767, 100) are incompatible"
     ]
    }
   ],
   "source": [
    "#Define Model\n",
    "N = 100\n",
    "model = Sequential()\n",
    "model.add(InputLayer(input_shape=(n_features,)))\n",
    "model.add(Dense(N, activation='relu', kernel_initializer='he_normal'))\n",
    "model.add(Dense(2*N, activation='relu', kernel_initializer='he_normal'))\n",
    "model.add(Dense(3*N, activation='relu', kernel_initializer='he_normal'))\n",
    "model.add(Dense(2*N, activation='relu', kernel_initializer='he_normal'))\n",
    "model.add(Dense(1, activation='sigmoid'))\n",
    "\n",
    "model.load_weights(initial_weights)\n",
    "\n",
    "#100, 200, 300, 200, 1\n",
    "#50, 100, 150, 100, 1\n",
    "#25, 50, 75, 50, 1\n",
    "#intial starting weights https://www.tensorflow.org/tutorials/structured_data/imbalanced_data#checkpoint_the_initial_weights\n",
    "#model.summary()"
   ]
  },
  {
   "cell_type": "code",
   "execution_count": null,
   "id": "ab8f1d08",
   "metadata": {},
   "outputs": [],
   "source": [
    "#Compile Model\n",
    "model.compile(optimizer='adam', loss='binary_crossentropy', metrics=['accuracy', 'AUC', 'Precision', 'Recall'])\n",
    "model.summary()"
   ]
  },
  {
   "cell_type": "code",
   "execution_count": null,
   "id": "aa27b00a",
   "metadata": {},
   "outputs": [],
   "source": [
    "#Fit Model\n",
    "start_time = time.time()\n",
    "history = model.fit(X_train, y_train, epochs=100, batch_size=300, validation_split=0.3)\n",
    "#initial_weights = os.path.join(tempfile.mkdtemp(), 'initial_weights')\n",
    "#model.save_weights(initial_weights)\n",
    "print(initial_weights)\n",
    "end_time = time.time()\n"
   ]
  },
  {
   "cell_type": "code",
   "execution_count": null,
   "id": "5eefb69a",
   "metadata": {},
   "outputs": [],
   "source": [
    "#Save the Model\n",
    "model.save('3FeatureAlgorithm_100200300_model.h5')"
   ]
  },
  {
   "cell_type": "code",
   "execution_count": null,
   "id": "cb3c94d8",
   "metadata": {},
   "outputs": [],
   "source": [
    "#Evaluate the Model\n",
    "loss, accuracy, auc, precision, recall  = model.evaluate(X_test, y_test, verbose=0)\n",
    "print('Test Loss: %.3f' % loss)\n",
    "print('Test Accuracy: %.3f' % accuracy)\n",
    "print('Test AUC: %.3f' % auc)\n",
    "print('Test Precision: %.3f' % precision)\n",
    "print('Test Recall: %.3f' % recall)\n",
    "print(end_time - start_time)\n",
    "\n",
    "#confusionmatrix\n",
    "\n",
    "y_pred = model.predict(X_test)\n",
    "y_pred = np.round(y_pred).tolist()\n",
    "#y_pred = np.argmax(y_pred, axis=1).tolist()\n",
    "\n",
    "confusion_matrix(y_test, y_pred)"
   ]
  },
  {
   "cell_type": "code",
   "execution_count": null,
   "id": "dc68f932",
   "metadata": {},
   "outputs": [],
   "source": [
    "#Output to a CSV\n",
    "hist_df = pd.DataFrame(history.history)\n",
    "\n",
    "hist_csv_file = '3FeatureAlgorithm_100200300_Output.csv'\n",
    "with open(hist_csv_file, mode='w') as f:\n",
    "    hist_df.to_csv(f)"
   ]
  },
  {
   "cell_type": "code",
   "execution_count": null,
   "id": "9c1416db",
   "metadata": {},
   "outputs": [],
   "source": [
    "#Plot Learning Curves\n",
    "fig_loss = pyplot.figure(\"Figure 1\")\n",
    "pyplot.title('Learning Curves')\n",
    "pyplot.xlabel('Epoch')\n",
    "pyplot.ylabel('Cross Entropy')\n",
    "pyplot.plot(history.history['loss'], label='train')\n",
    "pyplot.plot(history.history['val_loss'], label='val')\n",
    "pyplot.legend()\n",
    "\n",
    "fig_accuracy = pyplot.figure(\"Figure 2\")\n",
    "pyplot.xlabel('Epoch')\n",
    "pyplot.ylabel('Accuracy')\n",
    "pyplot.plot(history.history['accuracy'], label='accuracy')\n",
    "pyplot.plot(history.history['val_accuracy'], label='val_accuracy')\n",
    "pyplot.legend()\n",
    "\n",
    "fig_auc = pyplot.figure(\"Figure 3\")\n",
    "pyplot.xlabel('Epoch')\n",
    "pyplot.ylabel('AUC')\n",
    "pyplot.plot(history.history['auc'], label='auc')\n",
    "pyplot.plot(history.history['val_auc'], label='val_auc')\n",
    "pyplot.legend()\n",
    "\n",
    "fig_precision_recall = pyplot.figure(\"Figure 4\")\n",
    "pyplot.xlabel('Epoch')\n",
    "pyplot.ylabel('Precision')\n",
    "pyplot.plot(history.history['precision'], label='precision')\n",
    "pyplot.plot(history.history['val_precision'], label='val_precision')\n",
    "\n",
    "pyplot.legend()\n",
    "\n",
    "fig_precision_recall = pyplot.figure(\"Figure 5\")\n",
    "pyplot.xlabel('Epoch')\n",
    "pyplot.ylabel('Recall')\n",
    "pyplot.plot(history.history['recall'], label='recall')\n",
    "pyplot.plot(history.history['val_recall'], label='val_recall')\n",
    "pyplot.legend()\n",
    "pyplot.show()"
   ]
  }
 ],
 "metadata": {
  "kernelspec": {
   "display_name": "Python 3",
   "language": "python",
   "name": "python3"
  },
  "language_info": {
   "codemirror_mode": {
    "name": "ipython",
    "version": 3
   },
   "file_extension": ".py",
   "mimetype": "text/x-python",
   "name": "python",
   "nbconvert_exporter": "python",
   "pygments_lexer": "ipython3",
   "version": "3.8.5"
  }
 },
 "nbformat": 4,
 "nbformat_minor": 5
}
