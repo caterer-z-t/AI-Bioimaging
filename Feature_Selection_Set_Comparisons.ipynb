{
 "cells": [
  {
   "cell_type": "markdown",
   "id": "f9aab547",
   "metadata": {},
   "source": [
    "# Script to compare feature selection sets."
   ]
  },
  {
   "cell_type": "code",
   "execution_count": 7,
   "id": "325024cf",
   "metadata": {},
   "outputs": [
    {
     "data": {
      "text/plain": [
       "'\\nVENN OPTIONS\\nuse four ovals as seen in https://github.com/tctianchi/pyvenn\\n\\nbecause our dataset is fairly large, this may not look pretty\\nfor any option currently if we are ranking 150 features\\n\\n'"
      ]
     },
     "execution_count": 7,
     "metadata": {},
     "output_type": "execute_result"
    }
   ],
   "source": [
    "\"\"\"\n",
    "VENN OPTIONS\n",
    "use four ovals as seen in https://github.com/tctianchi/pyvenn\n",
    "\n",
    "because our dataset is fairly large, this may not look pretty\n",
    "for any option currently if we are ranking 150 features\n",
    "\n",
    "\"\"\""
   ]
  },
  {
   "cell_type": "code",
   "execution_count": 8,
   "id": "6f3ad5bc",
   "metadata": {},
   "outputs": [],
   "source": [
    "# Installs\n",
    "#pip install venn\n",
    "\n",
    "# Imports\n",
    "import numpy as np\n",
    "from numpy import genfromtxt\n",
    "import pandas as pd\n",
    "import csv \n",
    "\n",
    "import matplotlib\n",
    "%matplotlib inline\n",
    "matplotlib.use('Agg')\n",
    "import venn"
   ]
  },
  {
   "cell_type": "code",
   "execution_count": 9,
   "id": "0c2e09bd",
   "metadata": {},
   "outputs": [],
   "source": [
    "# Methods\n",
    "\n",
    "def loadDatasets(file_name, n_to_select, needs_flip):\n",
    "    file_path = file_name + '_' + str(n_to_select) + '.csv'\n",
    "    current_data = genfromtxt(file_path, delimiter=',')\n",
    "    \n",
    "    if needs_flip:\n",
    "        current_data = np.flip(current_data)\n",
    "\n",
    "    current_data = list(np.asarray(current_data, dtype = 'int'))\n",
    "    current_data = current_data[0:n_to_select]\n",
    "    set_output = set(current_data)\n",
    "    \n",
    "    return set_output\n",
    "     \n",
    "def writeToCSV(file_name, model_output):\n",
    "\n",
    "    saveOutput = file_name + '.csv'\n",
    "    with open(saveOutput, 'w') as csvfile:  \n",
    "        # creating a csv writer object  \n",
    "        csvwriter = csv.writer(csvfile)  \n",
    "\n",
    "        # writing the fields  \n",
    "        csvwriter.writerow(model_output) \n",
    "    \n",
    "    \n",
    "# SET INTERSECTIONS\n",
    "def setName(obj):\n",
    "    namespace = globals()\n",
    "    return [name for name in namespace if namespace[name] is obj]\n",
    "    \n",
    "def sL(x):\n",
    "    return str(len(x))\n",
    "      \n",
    "def twoIntersections(set1, set2, onlyTwo):\n",
    "    newSet1 = set1.intersection(set2)\n",
    "    if onlyTwo:\n",
    "        print(setName(set1) + setName(set2))\n",
    "        print(\"New Set Length = \" + sL(newSet1))\n",
    "    return newSet1\n",
    "\n",
    "def threeIntersections(set1, set2, set3):\n",
    "    print(setName(set1) + setName(set2) + setName(set3))\n",
    "    newSet1 = twoIntersections(set1, set2, False).intersection(set3)\n",
    "    print(\"New Set Length = \" + sL(newSet1))\n",
    "    return newSet1\n",
    "    \n",
    "def fourIntersections(set1, set2, set3, set4):\n",
    "    print(setName(set1) + setName(set2) + setName(set3) + setName(set4))\n",
    "    newSet1 = twoIntersections(set1, set2, False)\n",
    "    newSet2 = twoIntersections(set3, set4, False)\n",
    "    newSet3 = twoIntersections(newSet1, newSet2, False)\n",
    "    print(\"New Set Length = \" + sL(newSet3))\n",
    "    return newSet3"
   ]
  },
  {
   "cell_type": "code",
   "execution_count": 10,
   "id": "d42aa6cc",
   "metadata": {},
   "outputs": [],
   "source": [
    "# Load in datasets\n",
    "\n",
    "# Variables\n",
    "n_to_select = 50\n",
    "\n",
    "# ETC - requires flip\n",
    "ETC_path = 'ETC_sorted_index'\n",
    "ETC_flip = True\n",
    "ETC_curr = loadDatasets(ETC_path, n_to_select, ETC_flip)\n",
    "\n",
    "# RFE - no flip\n",
    "RFE_path = 'RFE_sorted_index'\n",
    "RFE_flip = False\n",
    "RFE_curr = loadDatasets(RFE_path, n_to_select, RFE_flip)\n",
    "\n",
    "# ANOVA - requires flip\n",
    "ANOVA_path = 'ANOVA_sorted_index'\n",
    "ANOVA_flip = True\n",
    "ANOVA_curr = loadDatasets(ANOVA_path, n_to_select, ANOVA_flip)\n",
    "\n",
    "# KNN - requires flip\n",
    "# KNN_path = 'KNN_sorted_index'\n",
    "# KNN_flip = True\n",
    "# KNN_150 = loadDatasets(KNN_path, 150, KNN_flip)\n",
    "# KNN_300 = loadDatasets(KNN_path, n_to_select, KNN_flip)"
   ]
  },
  {
   "cell_type": "code",
   "execution_count": 11,
   "id": "e96378a8",
   "metadata": {},
   "outputs": [
    {
     "name": "stdout",
     "output_type": "stream",
     "text": [
      "['ETC_curr', 'RFE_curr', 'ANOVA_curr']\n",
      "New Set Length = 12\n"
     ]
    },
    {
     "data": {
      "text/plain": [
       "{164, 165, 166, 189, 191, 192, 193, 196, 199, 200, 203, 204}"
      ]
     },
     "execution_count": 11,
     "metadata": {},
     "output_type": "execute_result"
    }
   ],
   "source": [
    "# 150s\n",
    "\n",
    "# Test 2 intersections\n",
    "# ETC_RFE = twoIntersections(ETC_150, RFE_150, True)\n",
    "# ETC_ANOVA = twoIntersections(ETC_150, ANOVA_150, True)\n",
    "# ETC_KNN = twoIntersections(ETC_150, KNN_150, True)\n",
    "# RFE_ANOVA = twoIntersections(RFE_150, ANOVA_150, True)\n",
    "# RFE_KNN = twoIntersections(RFE_150, KNN_150, True)\n",
    "# ANOVA_KNN = twoIntersections(ANOVA_150, KNN_150, True)\n",
    "\n",
    "# Test 3 intersections\n",
    "ETC_RFE_ANOVA = threeIntersections(ETC_curr, RFE_curr, ANOVA_curr)\n",
    "ETC_RFE_ANOVA\n",
    "# ETC_RFE_KNN = threeIntersections(ETC_150, RFE_150, KNN_150)\n",
    "# ETC_ANOVA_KNN = threeIntersections(ETC_150, ANOVA_150, KNN_150)\n",
    "# RFE_ANOVA_KNN = threeIntersections(RFE_150, ANOVA_150, KNN_150)\n",
    "\n",
    "# Test all 4 intersected\n",
    "# all4_150 = fourIntersections(ETC_150, RFE_150, ANOVA_150, KNN_150)"
   ]
  },
  {
   "cell_type": "code",
   "execution_count": 13,
   "id": "1bec7858",
   "metadata": {},
   "outputs": [
    {
     "ename": "NameError",
     "evalue": "name 'ETC_output_300' is not defined",
     "output_type": "error",
     "traceback": [
      "\u001b[0;31m---------------------------------------------------------------------------\u001b[0m",
      "\u001b[0;31mNameError\u001b[0m                                 Traceback (most recent call last)",
      "\u001b[0;32m<ipython-input-13-42cf057d0204>\u001b[0m in \u001b[0;36m<module>\u001b[0;34m\u001b[0m\n\u001b[1;32m      2\u001b[0m \u001b[0;34m\u001b[0m\u001b[0m\n\u001b[1;32m      3\u001b[0m \u001b[0;31m# Test 2 intersections\u001b[0m\u001b[0;34m\u001b[0m\u001b[0;34m\u001b[0m\u001b[0;34m\u001b[0m\u001b[0m\n\u001b[0;32m----> 4\u001b[0;31m \u001b[0mETC_RFE\u001b[0m \u001b[0;34m=\u001b[0m \u001b[0mtwoIntersections\u001b[0m\u001b[0;34m(\u001b[0m\u001b[0mETC_output_300\u001b[0m\u001b[0;34m,\u001b[0m \u001b[0mRFE_output_300\u001b[0m\u001b[0;34m,\u001b[0m \u001b[0;32mTrue\u001b[0m\u001b[0;34m)\u001b[0m\u001b[0;34m\u001b[0m\u001b[0;34m\u001b[0m\u001b[0m\n\u001b[0m\u001b[1;32m      5\u001b[0m \u001b[0mETC_ANOVA\u001b[0m \u001b[0;34m=\u001b[0m \u001b[0mtwoIntersections\u001b[0m\u001b[0;34m(\u001b[0m\u001b[0mETC_output_300\u001b[0m\u001b[0;34m,\u001b[0m \u001b[0mANOVA_output_300\u001b[0m\u001b[0;34m,\u001b[0m \u001b[0;32mTrue\u001b[0m\u001b[0;34m)\u001b[0m\u001b[0;34m\u001b[0m\u001b[0;34m\u001b[0m\u001b[0m\n\u001b[1;32m      6\u001b[0m \u001b[0;31m# ETC_KNN = twoIntersections(ETC_300, KNN_300, True)\u001b[0m\u001b[0;34m\u001b[0m\u001b[0;34m\u001b[0m\u001b[0;34m\u001b[0m\u001b[0m\n",
      "\u001b[0;31mNameError\u001b[0m: name 'ETC_output_300' is not defined"
     ]
    }
   ],
   "source": [
    "#300s\n",
    "\n",
    "# Test 2 intersections\n",
    "ETC_RFE = twoIntersections(ETC_output_300, RFE_output_300, True)\n",
    "ETC_ANOVA = twoIntersections(ETC_output_300, ANOVA_output_300, True)\n",
    "# ETC_KNN = twoIntersections(ETC_300, KNN_300, True)\n",
    "RFE_ANOVA = twoIntersections(RFE_output_300, ANOVA_output_300, True)\n",
    "# RFE_KNN = twoIntersections(RFE_300, KNN_300, True)\n",
    "# ANOVA_KNN = twoIntersections(ANOVA_300, KNN_300, True)\n",
    "\n",
    "# Test 3 intersections\n",
    "ETC_RFE_ANOVA = threeIntersections(ETC_output_300, RFE_output_300, ANOVA_output_300)\n",
    "# ETC_RFE_KNN = threeIntersections(ETC_300, RFE_300, KNN_300)\n",
    "# ETC_ANOVA_KNN = threeIntersections(ETC_300, ANOVA_300, KNN_300)\n",
    "# RFE_ANOVA_KNN = threeIntersections(RFE_300, ANOVA_300, KNN_300)\n",
    "\n",
    "# # Test all 4 intersected\n",
    "# all4_300 = fourIntersections(ETC_300, RFE_300, ANOVA_300, KNN_300)\n",
    "\n",
    "\n",
    "# # SAVE ONE\n",
    "# ETC_RFE = list(ETC_RFE)\n",
    "# ETC_RFE.sort()\n",
    "# writeToCSV('ETC_RFE', ETC_RFE)"
   ]
  },
  {
   "cell_type": "code",
   "execution_count": null,
   "id": "d232c7a4",
   "metadata": {},
   "outputs": [],
   "source": [
    "ETC_RFE_ANOVA = 104\n",
    "\n",
    "ETC_RFE = 45\n",
    "ETC_ANOVA = 76 \n",
    "RFE_ANOVA = 34\n",
    "\n",
    "ETC = 300 - ETC_RFE - ETC_ANOVA - ETC_RFE_ANOVA\n",
    "RFE = 300 - RFE_ANOVA - ETC_ANOVA - ETC_RFE_ANOVA\n",
    "ANOVA = 300 - RFE_ANOVA - ETC_ANOVA - ETC_RFE_ANOVA\n",
    "\n",
    "\n",
    "\n",
    "venn3(subsets = (ETC, RFE, ETC_RFE, ANOVA, ETC_ANOVA, RFE_ANOVA, ETC_RFE_ANOVA), set_labels = ('ExtraTreesClassifier', 'Reursive Feature Selection', 'ANOVA'), alpha = .3);"
   ]
  },
  {
   "cell_type": "code",
   "execution_count": null,
   "id": "339c683d",
   "metadata": {},
   "outputs": [],
   "source": [
    "# print(ETC_150)\n",
    "# print(ETC_300)\n",
    "# print(RFE_150)\n",
    "# print(RFE_300)\n",
    "# print(ANOVA_150)\n",
    "# print(ANOVA_300)\n",
    "# print(KNN_150)\n",
    "# print(KNN_300)"
   ]
  },
  {
   "cell_type": "code",
   "execution_count": 14,
   "id": "11dacd96",
   "metadata": {},
   "outputs": [],
   "source": [
    "# # Load datasets\n",
    "# n_to_select = 300\n",
    "\n",
    "# # ETC - requires flip\n",
    "# ETC_path = 'ETC_sorted_index_' + str(n_to_select) + '.csv'\n",
    "# ETC_data = genfromtxt(ETC_path, delimiter=',')\n",
    "# ETC_data = np.flip(ETC_data)\n",
    "# ETC_data = list(np.asarray(ETC_data, dtype = 'int'))\n",
    "# ETC_data = ETC_data[0:n_to_select]\n",
    "# ETC_n_selected = set(ETC_data)\n",
    "\n",
    "# # RFE - no flip\n",
    "# RFE_path = 'RFE_sorted_index_' + str(n_to_select) + '.csv'\n",
    "# RFE_data = genfromtxt(RFE_path, delimiter=',')\n",
    "# RFE_data = list(np.asarray(RFE_data, dtype = 'int'))\n",
    "# RFE_data = RFE_data[0:n_to_select]\n",
    "# RFE_n_selected = set(RFE_data)\n",
    "\n",
    "# # ANOVA - requires flip\n",
    "# ANOVA_path = 'ANOVA_sorted_index_' + str(n_to_select) + '.csv'\n",
    "# ANOVA_data = genfromtxt(ANOVA_path, delimiter=',')\n",
    "# ANOVA_data = np.flip(ANOVA_data)\n",
    "# ANOVA_data = list(np.asarray(ANOVA_data, dtype = 'int'))\n",
    "# ANOVA_data = ANOVA_data[0:n_to_select]\n",
    "# ANOVA_n_selected = set(ANOVA_data)\n",
    "\n",
    "# # KNN - requires flip\n",
    "# KNN_path = 'KNN_sorted_index_' + str(n_to_select) + '.csv'\n",
    "# KNN_data = genfromtxt(KNN_path, delimiter=',')\n",
    "# KNN_data = np.flip(KNN_data)\n",
    "# KNN_data = list(np.asarray(KNN_data, dtype = 'int'))\n",
    "# KNN_data = KNN_data[0:n_to_select]\n",
    "# KNN_n_selected = set(KNN_data)"
   ]
  },
  {
   "cell_type": "code",
   "execution_count": 8,
   "id": "afca6ec5",
   "metadata": {},
   "outputs": [],
   "source": [
    "# print(ETC_n_selected)\n",
    "# print(RFE_n_selected)\n",
    "# print(ANOVA_n_selected)\n",
    "# print(KNN_n_selected)"
   ]
  }
 ],
 "metadata": {
  "kernelspec": {
   "display_name": "Python 3",
   "language": "python",
   "name": "python3"
  },
  "language_info": {
   "codemirror_mode": {
    "name": "ipython",
    "version": 3
   },
   "file_extension": ".py",
   "mimetype": "text/x-python",
   "name": "python",
   "nbconvert_exporter": "python",
   "pygments_lexer": "ipython3",
   "version": "3.8.5"
  }
 },
 "nbformat": 4,
 "nbformat_minor": 5
}
