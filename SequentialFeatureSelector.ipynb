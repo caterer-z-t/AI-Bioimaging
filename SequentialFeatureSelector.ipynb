{
 "cells": [
  {
   "cell_type": "code",
   "execution_count": 1,
   "metadata": {
    "colab": {
     "base_uri": "https://localhost:8080/"
    },
    "id": "02dXXcAbMhOY",
    "outputId": "42c608b2-d82e-4652-8144-329decbe2307"
   },
   "outputs": [],
   "source": [
    "# Imports\n",
    "from sklearn.feature_selection import SequentialFeatureSelector\n",
    "from sklearn.neighbors import KNeighborsClassifier\n",
    "\n",
    "import matplotlib.pyplot as plt\n",
    "import numpy as np\n",
    "import pandas as pd\n",
    "plt.style.use('ggplot')\n",
    "\n",
    "import csv"
   ]
  },
  {
   "cell_type": "code",
   "execution_count": 2,
   "metadata": {
    "colab": {
     "background_save": true
    },
    "id": "uTUvZgBAOASL"
   },
   "outputs": [],
   "source": [
    "# Filepath\n",
    "dataFolder = 'Data/'\n",
    "dataFile = dataFolder + 'bandsOnTopWithClassification.csv'\n",
    "\n",
    "# Load and fit the dataset\n",
    "df = pd.read_csv(dataFile)\n",
    "indColumn = df.iloc[:,0:767] #independent columns\n",
    "targetColumn = df.iloc[:,-1] #target column"
   ]
  },
  {
   "cell_type": "code",
   "execution_count": 3,
   "metadata": {},
   "outputs": [],
   "source": [
    "for i in range(1):\n",
    "    # Fit the dataset\n",
    "    knn = KNeighborsClassifier(n_neighbors=3)\n",
    "    KNN_model = SequentialFeatureSelector(knn, n_features_to_select=150)\n",
    "    KNN_model.fit(indColumn, targetColumn)\n",
    "    \n",
    "    saveOutput = 'SequentialOutput' + str(i) + '.csv'\n",
    "    \n",
    "    with open(saveOutput, 'w') as csvfile:  \n",
    "        # creating a csv writer object  \n",
    "        csvwriter = csv.writer(csvfile)  \n",
    "          \n",
    "        # writing the fields  \n",
    "        csvwriter.writerow(model.support_)  \n",
    "          \n",
    "        # writing the data rows  \n",
    "        # csvwriter.writerows(indColumn)"
   ]
  },
  {
   "cell_type": "code",
   "execution_count": 4,
   "metadata": {},
   "outputs": [],
   "source": [
    "output = model.support_\n",
    "sort_index = np.argsort(output)"
   ]
  },
  {
   "cell_type": "code",
   "execution_count": 5,
   "metadata": {},
   "outputs": [
    {
     "name": "stdout",
     "output_type": "stream",
     "text": [
      "[  0 505 506 507 508 509 510 511 512 513 514 515 516 517 518 519 520 521\n",
      " 522 523 504 503 502 501 481 482 483 484 485 486 487 488 489 524 490 492\n",
      " 493 494 495 496 497 498 499 500 491 480 525 529 554 555 556 557 558 559\n",
      " 560 561 562 563 564 565 566 567 568 569 570 571 572 553 552 551 550 530\n",
      " 531 532 533 534 535 536 537 538 527 539 541 542 543 544 545 546 547 548\n",
      " 549 540 573 479 477 406 407 408 409 410 411 412 413 414 415 416 417 418\n",
      " 419 420 421 422 423 424 405 404 403 402 379 380 381 382 765 387 388 389\n",
      " 390 425 391 393 394 395 396 397 398 399 400 401 392 478 426 428 457 458\n",
      " 459 460 461 462 464 465 466 467 468 469 470 471 472 473 474 475 476 456\n",
      " 455 454 453 429 433 434 435 436 437 439 440 441 427 442 444 445 446 447\n",
      " 448 449 450 451 452 443 574 575 576 699 700 701 702 703 704 705 706 707\n",
      " 708 709 710 711 712 713 714 715 716 717 698 697 696 695 675 676 677 678\n",
      " 679 680 681 682 683 718 684 686 687 688 689 690 691 692 693 694 685 674\n",
      " 719 721 746 747 748 749 750 751 752 753 754 755 756 757 758 759 760 761\n",
      " 762 763 764 745 744 743 742 722 723 724 725 726 727 728 729 730 720 731\n",
      " 733 734 735 736 737 738 739 740 741 732 673 672 671 601 602 603 604 605\n",
      " 606 607 608 609 610 611 612 613 614 616 617 618 619 620 600 599 598 597\n",
      " 577 578 579 580 581 582 583 584 585 621 586 588 589 590 591 592 593 594\n",
      " 595 596 587 622 623 624 651 652 653 654 655 656 657 658 659 650 660 662\n",
      " 663 664 665 666 667 668 669 670 661 378 649 647 625 626 627 628 629 630\n",
      " 631 632 633 648 634 636 638 640 641 642 643 644 645 646 635 377 766 375\n",
      " 146 147 148 149 150 152 153 154 155 157 158 159 160 161 162 163 166 145\n",
      " 167 144 142 125 126 127 128 129 130 131 132 133 134 135 136 137 138 139\n",
      " 140 141 143 168 169 170 193 194 195 196 198 199 200 201 202 203 204 206\n",
      " 208 209 212 213 214 192 376 190 189 171 172 173 174 175 176 177 178 124\n",
      " 179 181 182 183 184 185 186 187 188 180 215 123 121  43  44  45  46  47\n",
      "  49  50  51  52  53  54  56  57  58  59  60  61  42  62  41  39   3   4\n",
      "   5   6   7   8   9  10  11  12  13  17  18  19  20  21  22  40  64  65\n",
      "  66 104 105 106 107 108 109 110 111 112 113 114 115 116 117 118 119 120\n",
      " 103 102 101 100  67  68  80  81  82  83  84  85 122  90  92  93  94  95\n",
      "  96  97  98  99  91 216 191 218 323 322 321 320 319 318 317 316 315 314\n",
      " 313 217 311 310 309 308 307 306 305 304 303 302 301 300 299 298 297 324\n",
      " 325 326 327 374 373 372 371 370 368 359 358 357 356 355 354 353 296 352\n",
      " 350 349 348 347 346 345 344 333 332 331 330 329 328 351 295 312 260 258\n",
      " 219 220 256 252 259 232 197 231 230 229  48 226 227 225 205 224 207 228\n",
      " 233 271 234  72  71  70  69 334 335 336 337 338  63 339 340 341 342 343\n",
      "  55 528 360  73 365 366  16  15  14 367 222 364 386 384 369 210 211 221\n",
      "   2   1 385 223 363 361  38  37  36  35  34  33  32 362  31  29  28  27\n",
      "  26  25  24  23  30  74  77  76 289 290 291 292 293 294 269 637 268 639\n",
      " 463 156 267 266 265 288 264 287 285 151 272 273 274 615 275 276 277 278\n",
      " 279 280 281 282 283 284 286 263 262 261 241 240  89  88  87  86 239 238\n",
      " 237 236 235 526  79  78 270 430 431 432 242 164 165 257 255 254 253 251\n",
      "  75 250 248 247 438 246 245 244 243 249 383]\n"
     ]
    }
   ],
   "source": [
    "print(sort_index)"
   ]
  },
  {
   "cell_type": "code",
   "execution_count": null,
   "metadata": {},
   "outputs": [],
   "source": []
  }
 ],
 "metadata": {
  "colab": {
   "provenance": []
  },
  "kernelspec": {
   "display_name": "Python 3",
   "language": "python",
   "name": "python3"
  },
  "language_info": {
   "codemirror_mode": {
    "name": "ipython",
    "version": 3
   },
   "file_extension": ".py",
   "mimetype": "text/x-python",
   "name": "python",
   "nbconvert_exporter": "python",
   "pygments_lexer": "ipython3",
   "version": "3.8.5"
  }
 },
 "nbformat": 4,
 "nbformat_minor": 1
}
